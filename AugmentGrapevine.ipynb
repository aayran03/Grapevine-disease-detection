{
 "cells": [
  {
   "cell_type": "code",
   "execution_count": 1,
   "id": "90bbe2ee",
   "metadata": {},
   "outputs": [
    {
     "name": "stdout",
     "output_type": "stream",
     "text": [
      "Collecting Augmentor\n",
      "  Downloading Augmentor-0.2.12-py2.py3-none-any.whl (38 kB)\n",
      "Requirement already satisfied: Pillow>=5.2.0 in /Applications/anaconda3/lib/python3.9/site-packages (from Augmentor) (9.4.0)\n",
      "Requirement already satisfied: tqdm>=4.9.0 in /Applications/anaconda3/lib/python3.9/site-packages (from Augmentor) (4.65.0)\n",
      "Requirement already satisfied: numpy>=1.11.0 in /Applications/anaconda3/lib/python3.9/site-packages (from Augmentor) (1.21.5)\n",
      "Installing collected packages: Augmentor\n",
      "Successfully installed Augmentor-0.2.12\n"
     ]
    }
   ],
   "source": [
    "!pip install Augmentor"
   ]
  },
  {
   "cell_type": "code",
   "execution_count": 3,
   "id": "ef660377",
   "metadata": {},
   "outputs": [
    {
     "name": "stdout",
     "output_type": "stream",
     "text": [
      "Initialised with 80 image(s) found.\n",
      "Output directory set to /Users/aayushrangra/Desktop/GrapeVine_Disease_Detection/grapeLeavesDataset/train/Ak/output.Initialised with 80 image(s) found.\n",
      "Output directory set to /Users/aayushrangra/Desktop/GrapeVine_Disease_Detection/grapeLeavesDataset/train/Ala_Idris/output.Initialised with 80 image(s) found.\n",
      "Output directory set to /Users/aayushrangra/Desktop/GrapeVine_Disease_Detection/grapeLeavesDataset/train/Buzgulu/output.Initialised with 80 image(s) found.\n",
      "Output directory set to /Users/aayushrangra/Desktop/GrapeVine_Disease_Detection/grapeLeavesDataset/train/Dimnit/output.Initialised with 80 image(s) found.\n",
      "Output directory set to /Users/aayushrangra/Desktop/GrapeVine_Disease_Detection/grapeLeavesDataset/train/Nazli/output.Initialised with 10 image(s) found.\n",
      "Output directory set to /Users/aayushrangra/Desktop/GrapeVine_Disease_Detection/grapeLeavesDataset/valid/Ak/output.Initialised with 10 image(s) found.\n",
      "Output directory set to /Users/aayushrangra/Desktop/GrapeVine_Disease_Detection/grapeLeavesDataset/valid/Ala_Idris/output.Initialised with 10 image(s) found.\n",
      "Output directory set to /Users/aayushrangra/Desktop/GrapeVine_Disease_Detection/grapeLeavesDataset/valid/Buzgulu/output.Initialised with 10 image(s) found.\n",
      "Output directory set to /Users/aayushrangra/Desktop/GrapeVine_Disease_Detection/grapeLeavesDataset/valid/Dimnit/output.Initialised with 10 image(s) found.\n",
      "Output directory set to /Users/aayushrangra/Desktop/GrapeVine_Disease_Detection/grapeLeavesDataset/valid/Nazli/output.Initialised with 10 image(s) found.\n",
      "Output directory set to /Users/aayushrangra/Desktop/GrapeVine_Disease_Detection/grapeLeavesDataset/test/Ak/output.Initialised with 10 image(s) found.\n",
      "Output directory set to /Users/aayushrangra/Desktop/GrapeVine_Disease_Detection/grapeLeavesDataset/test/Ala_Idris/output.Initialised with 10 image(s) found.\n",
      "Output directory set to /Users/aayushrangra/Desktop/GrapeVine_Disease_Detection/grapeLeavesDataset/test/Buzgulu/output.Initialised with 10 image(s) found.\n",
      "Output directory set to /Users/aayushrangra/Desktop/GrapeVine_Disease_Detection/grapeLeavesDataset/test/Dimnit/output.Initialised with 10 image(s) found.\n",
      "Output directory set to /Users/aayushrangra/Desktop/GrapeVine_Disease_Detection/grapeLeavesDataset/test/Nazli/output."
     ]
    }
   ],
   "source": [
    "import Augmentor\n",
    "\n",
    "a = Augmentor.Pipeline(\"/Users/aayushrangra/Desktop/GrapeVine_Disease_Detection/grapeLeavesDataset/train/Ak\")\n",
    "b = Augmentor.Pipeline(\"/Users/aayushrangra/Desktop/GrapeVine_Disease_Detection/grapeLeavesDataset/train/Ala_Idris\")\n",
    "c = Augmentor.Pipeline(\"/Users/aayushrangra/Desktop/GrapeVine_Disease_Detection/grapeLeavesDataset/train/Buzgulu\")\n",
    "d = Augmentor.Pipeline(\"/Users/aayushrangra/Desktop/GrapeVine_Disease_Detection/grapeLeavesDataset/train/Dimnit\")\n",
    "e = Augmentor.Pipeline(\"/Users/aayushrangra/Desktop/GrapeVine_Disease_Detection/grapeLeavesDataset/train/Nazli\")\n",
    "\n",
    "\n",
    "f = Augmentor.Pipeline(\"/Users/aayushrangra/Desktop/GrapeVine_Disease_Detection/grapeLeavesDataset/valid/Ak\")\n",
    "g = Augmentor.Pipeline(\"/Users/aayushrangra/Desktop/GrapeVine_Disease_Detection/grapeLeavesDataset/valid/Ala_Idris\")\n",
    "h = Augmentor.Pipeline(\"/Users/aayushrangra/Desktop/GrapeVine_Disease_Detection/grapeLeavesDataset/valid/Buzgulu\")\n",
    "i = Augmentor.Pipeline(\"/Users/aayushrangra/Desktop/GrapeVine_Disease_Detection/grapeLeavesDataset/valid/Dimnit\")\n",
    "j = Augmentor.Pipeline(\"/Users/aayushrangra/Desktop/GrapeVine_Disease_Detection/grapeLeavesDataset/valid/Nazli\")\n",
    "\n",
    "\n",
    "k = Augmentor.Pipeline(\"/Users/aayushrangra/Desktop/GrapeVine_Disease_Detection/grapeLeavesDataset/test/Ak\")\n",
    "l = Augmentor.Pipeline(\"/Users/aayushrangra/Desktop/GrapeVine_Disease_Detection/grapeLeavesDataset/test/Ala_Idris\")\n",
    "m = Augmentor.Pipeline(\"/Users/aayushrangra/Desktop/GrapeVine_Disease_Detection/grapeLeavesDataset/test/Buzgulu\")\n",
    "n = Augmentor.Pipeline(\"/Users/aayushrangra/Desktop/GrapeVine_Disease_Detection/grapeLeavesDataset/test/Dimnit\")\n",
    "o = Augmentor.Pipeline(\"/Users/aayushrangra/Desktop/GrapeVine_Disease_Detection/grapeLeavesDataset/test/Nazli\")"
   ]
  },
  {
   "cell_type": "code",
   "execution_count": 36,
   "id": "b5cdb90c",
   "metadata": {},
   "outputs": [],
   "source": [
    "\n",
    "b.rotate(probability=0.3, max_left_rotation=10, max_right_rotation=10)\n",
    "c.rotate(probability=0.3, max_left_rotation=10, max_right_rotation=10)\n",
    "d.rotate(probability=0.3, max_left_rotation=10, max_right_rotation=10)\n",
    "e.rotate(probability=0.3, max_left_rotation=10, max_right_rotation=10)\n",
    "f.rotate(probability=0.3, max_left_rotation=10, max_right_rotation=10)\n",
    "g.rotate(probability=0.3, max_left_rotation=10, max_right_rotation=10)\n",
    "h.rotate(probability=0.3, max_left_rotation=10, max_right_rotation=10)\n",
    "i.rotate(probability=0.3, max_left_rotation=10, max_right_rotation=10)\n",
    "j.rotate(probability=0.3, max_left_rotation=10, max_right_rotation=10)\n",
    "k.rotate(probability=0.3, max_left_rotation=10, max_right_rotation=10)\n",
    "l.rotate(probability=0.3, max_left_rotation=10, max_right_rotation=10)\n",
    "m.rotate(probability=0.3, max_left_rotation=10, max_right_rotation=10)\n",
    "n.rotate(probability=0.3, max_left_rotation=10, max_right_rotation=10)\n",
    "o.rotate(probability=0.3, max_left_rotation=10, max_right_rotation=10)"
   ]
  },
  {
   "cell_type": "code",
   "execution_count": 12,
   "id": "9f4d8d0e",
   "metadata": {},
   "outputs": [],
   "source": [
    "e.rotate(probability=0.3, max_left_rotation=10, max_right_rotation=10)\n",
    "e.rotate90(probability=0.3)\n",
    "e.rotate270(probability=0.3)\n",
    "e.flip_left_right(probability=0.3)\n",
    "e.flip_top_bottom(probability=0.3)\n",
    "e.flip_random(probability=0.3)"
   ]
  },
  {
   "cell_type": "code",
   "execution_count": 13,
   "id": "8b9b6efe",
   "metadata": {},
   "outputs": [
    {
     "name": "stderr",
     "output_type": "stream",
     "text": [
      "Processing <PIL.Image.Image image mode=RGBA size=511x511 at 0x7FCCBA06C040>: 100\n"
     ]
    }
   ],
   "source": [
    "e.sample(800)"
   ]
  },
  {
   "cell_type": "code",
   "execution_count": 14,
   "id": "3eb14ba4",
   "metadata": {},
   "outputs": [],
   "source": [
    "f.rotate(probability=0.3, max_left_rotation=10, max_right_rotation=10)\n",
    "f.rotate90(probability=0.3)\n",
    "f.rotate270(probability=0.3)\n",
    "f.flip_left_right(probability=0.3)\n",
    "f.flip_top_bottom(probability=0.3)\n",
    "f.flip_random(probability=0.3)"
   ]
  },
  {
   "cell_type": "code",
   "execution_count": 15,
   "id": "5d113531",
   "metadata": {},
   "outputs": [
    {
     "name": "stderr",
     "output_type": "stream",
     "text": [
      "Processing <PIL.Image.Image image mode=RGBA size=511x511 at 0x7FCCE8FC0130>: 100\n"
     ]
    }
   ],
   "source": [
    "f.sample(80)"
   ]
  },
  {
   "cell_type": "code",
   "execution_count": 16,
   "id": "4d15e762",
   "metadata": {},
   "outputs": [],
   "source": [
    "g.rotate(probability=0.3, max_left_rotation=10, max_right_rotation=10)\n",
    "g.rotate90(probability=0.3)\n",
    "g.rotate270(probability=0.3)\n",
    "g.flip_left_right(probability=0.3)\n",
    "g.flip_top_bottom(probability=0.3)\n",
    "g.flip_random(probability=0.3)"
   ]
  },
  {
   "cell_type": "code",
   "execution_count": 17,
   "id": "003a3a6d",
   "metadata": {},
   "outputs": [
    {
     "name": "stderr",
     "output_type": "stream",
     "text": [
      "Processing <PIL.Image.Image image mode=RGBA size=511x511 at 0x7FCCD83CB370>: 100\n"
     ]
    }
   ],
   "source": [
    "g.sample(80)"
   ]
  },
  {
   "cell_type": "code",
   "execution_count": 18,
   "id": "c12994e6",
   "metadata": {},
   "outputs": [],
   "source": [
    "h.rotate(probability=0.3, max_left_rotation=10, max_right_rotation=10)\n",
    "h.rotate90(probability=0.3)\n",
    "h.rotate270(probability=0.3)\n",
    "h.flip_left_right(probability=0.3)\n",
    "h.flip_top_bottom(probability=0.3)\n",
    "h.flip_random(probability=0.3)"
   ]
  },
  {
   "cell_type": "code",
   "execution_count": 19,
   "id": "7eb53350",
   "metadata": {},
   "outputs": [
    {
     "name": "stderr",
     "output_type": "stream",
     "text": [
      "Processing <PIL.Image.Image image mode=RGBA size=511x511 at 0x7FCCE8FBB5B0>: 100\n"
     ]
    }
   ],
   "source": [
    "h.sample(80)"
   ]
  },
  {
   "cell_type": "code",
   "execution_count": 20,
   "id": "1510fa50",
   "metadata": {},
   "outputs": [],
   "source": [
    "i.rotate(probability=0.3, max_left_rotation=10, max_right_rotation=10)\n",
    "i.rotate90(probability=0.3)\n",
    "i.rotate270(probability=0.3)\n",
    "i.flip_left_right(probability=0.3)\n",
    "i.flip_top_bottom(probability=0.3)\n",
    "i.flip_random(probability=0.3)"
   ]
  },
  {
   "cell_type": "code",
   "execution_count": 21,
   "id": "157c745d",
   "metadata": {},
   "outputs": [
    {
     "name": "stderr",
     "output_type": "stream",
     "text": [
      "Processing <PIL.Image.Image image mode=RGBA size=511x511 at 0x7FCCE8FA3520>:  28"
     ]
    }
   ],
   "source": [
    "i.sample(80)"
   ]
  },
  {
   "cell_type": "code",
   "execution_count": 22,
   "id": "36c09281",
   "metadata": {},
   "outputs": [],
   "source": [
    "j.rotate(probability=0.3, max_left_rotation=10, max_right_rotation=10)\n",
    "j.rotate90(probability=0.3)\n",
    "j.rotate270(probability=0.3)\n",
    "j.flip_left_right(probability=0.3)\n",
    "j.flip_top_bottom(probability=0.3)\n",
    "j.flip_random(probability=0.3)"
   ]
  },
  {
   "cell_type": "code",
   "execution_count": 23,
   "id": "e583170d",
   "metadata": {},
   "outputs": [],
   "source": [
    "j.sample(80)"
   ]
  },
  {
   "cell_type": "code",
   "execution_count": 24,
   "id": "d65d7e73",
   "metadata": {},
   "outputs": [],
   "source": [
    "k.rotate(probability=0.3, max_left_rotation=10, max_right_rotation=10)\n",
    "k.rotate90(probability=0.3)\n",
    "k.rotate270(probability=0.3)\n",
    "k.flip_left_right(probability=0.3)\n",
    "k.flip_top_bottom(probability=0.3)\n",
    "k.flip_random(probability=0.3)"
   ]
  },
  {
   "cell_type": "code",
   "execution_count": 25,
   "id": "5ce748f5",
   "metadata": {},
   "outputs": [],
   "source": [
    "k.sample(80)"
   ]
  },
  {
   "cell_type": "code",
   "execution_count": 26,
   "id": "e6fbf7cc",
   "metadata": {},
   "outputs": [],
   "source": [
    "l.rotate(probability=0.3, max_left_rotation=10, max_right_rotation=10)\n",
    "l.rotate90(probability=0.3)\n",
    "l.rotate270(probability=0.3)\n",
    "l.flip_left_right(probability=0.3)\n",
    "l.flip_top_bottom(probability=0.3)\n",
    "l.flip_random(probability=0.3)"
   ]
  },
  {
   "cell_type": "code",
   "execution_count": 27,
   "id": "5b9692e2",
   "metadata": {},
   "outputs": [],
   "source": [
    "l.sample(80)"
   ]
  },
  {
   "cell_type": "code",
   "execution_count": 28,
   "id": "60c67d3a",
   "metadata": {},
   "outputs": [],
   "source": [
    "m.rotate(probability=0.3, max_left_rotation=10, max_right_rotation=10)\n",
    "m.rotate90(probability=0.3)\n",
    "m.rotate270(probability=0.3)\n",
    "m.flip_left_right(probability=0.3)\n",
    "m.flip_top_bottom(probability=0.3)\n",
    "m.flip_random(probability=0.3)"
   ]
  },
  {
   "cell_type": "code",
   "execution_count": 29,
   "id": "1b6bdeae",
   "metadata": {},
   "outputs": [],
   "source": [
    "m.sample(80)"
   ]
  },
  {
   "cell_type": "code",
   "execution_count": 30,
   "id": "41c60e99",
   "metadata": {},
   "outputs": [],
   "source": [
    "n.rotate(probability=0.3, max_left_rotation=10, max_right_rotation=10)\n",
    "n.rotate90(probability=0.3)\n",
    "n.rotate270(probability=0.3)\n",
    "n.flip_left_right(probability=0.3)\n",
    "n.flip_top_bottom(probability=0.3)\n",
    "n.flip_random(probability=0.3)"
   ]
  },
  {
   "cell_type": "code",
   "execution_count": 31,
   "id": "cb9f5fdf",
   "metadata": {},
   "outputs": [],
   "source": [
    "n.sample(80)"
   ]
  },
  {
   "cell_type": "code",
   "execution_count": 32,
   "id": "8179f461",
   "metadata": {},
   "outputs": [],
   "source": [
    "o.rotate(probability=0.3, max_left_rotation=10, max_right_rotation=10)\n",
    "o.rotate90(probability=0.3)\n",
    "o.rotate270(probability=0.3)\n",
    "o.flip_left_right(probability=0.3)\n",
    "o.flip_top_bottom(probability=0.3)\n",
    "o.flip_random(probability=0.3)"
   ]
  },
  {
   "cell_type": "code",
   "execution_count": 33,
   "id": "f7702f69",
   "metadata": {},
   "outputs": [],
   "source": [
    "o.sample(80)"
   ]
  },
  {
   "cell_type": "code",
   "execution_count": null,
   "id": "6070c211",
   "metadata": {},
   "outputs": [],
   "source": []
  }
 ],
 "metadata": {
  "kernelspec": {
   "display_name": "Python 3 (ipykernel)",
   "language": "python",
   "name": "python3"
  },
  "language_info": {
   "codemirror_mode": {
    "name": "ipython",
    "version": 3
   },
   "file_extension": ".py",
   "mimetype": "text/x-python",
   "name": "python",
   "nbconvert_exporter": "python",
   "pygments_lexer": "ipython3",
   "version": "3.9.13"
  }
 },
 "nbformat": 4,
 "nbformat_minor": 5
}
