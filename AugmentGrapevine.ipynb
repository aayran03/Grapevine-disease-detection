{
 "cells": [
  {
   "cell_type": "code",
   "execution_count": 1,
   "id": "90bbe2ee",
   "metadata": {},
   "outputs": [
    {
     "name": "stdout",
     "output_type": "stream",
     "text": [
      "Collecting Augmentor\n",
      "  Downloading Augmentor-0.2.12-py2.py3-none-any.whl (38 kB)\n",
      "Requirement already satisfied: Pillow>=5.2.0 in /Applications/anaconda3/lib/python3.9/site-packages (from Augmentor) (9.4.0)\n",
      "Requirement already satisfied: tqdm>=4.9.0 in /Applications/anaconda3/lib/python3.9/site-packages (from Augmentor) (4.65.0)\n",
      "Requirement already satisfied: numpy>=1.11.0 in /Applications/anaconda3/lib/python3.9/site-packages (from Augmentor) (1.21.5)\n",
      "Installing collected packages: Augmentor\n",
      "Successfully installed Augmentor-0.2.12\n"
     ]
    }
   ],
   "source": [
    "!pip install Augmentor"
   ]
  },
  {
   "cell_type": "code",
   "execution_count": 35,
   "id": "ef660377",
   "metadata": {},
   "outputs": [],
   "source": [
    "import Augmentor\n",
    "\n",
    "a = Augmentor.Pipeline(\"/Users/aayushrangra/Desktop/GrapeVine_Disease_Detection/GrapevineLeafDataset/train/Ak\")\n",
    "b = Augmentor.Pipeline(\"/Users/aayushrangra/Desktop/GrapeVine_Disease_Detection/GrapevineLeafDataset/train/Ala_Idris\")\n",
    "c = Augmentor.Pipeline(\"/Users/aayushrangra/Desktop/GrapeVine_Disease_Detection/GrapevineLeafDataset/train/Buzgulu\")\n",
    "d = Augmentor.Pipeline(\"/Users/aayushrangra/Desktop/GrapeVine_Disease_Detection/GrapevineLeafDataset/train/Dimnit\")\n",
    "e = Augmentor.Pipeline(\"/Users/aayushrangra/Desktop/GrapeVine_Disease_Detection/GrapevineLeafDataset/train/Nazli\")\n",
    "\n",
    "\n",
    "f = Augmentor.Pipeline(\"/Users/aayushrangra/Desktop/GrapeVine_Disease_Detection/GrapevineLeafDataset/valid/Ak\")\n",
    "g = Augmentor.Pipeline(\"/Users/aayushrangra/Desktop/GrapeVine_Disease_Detection/GrapevineLeafDataset/valid/Ala_Idris\")\n",
    "h = Augmentor.Pipeline(\"/Users/aayushrangra/Desktop/GrapeVine_Disease_Detection/GrapevineLeafDataset/valid/Buzgulu\")\n",
    "i = Augmentor.Pipeline(\"/Users/aayushrangra/Desktop/GrapeVine_Disease_Detection/GrapevineLeafDataset/valid/Dimnit\")\n",
    "j = Augmentor.Pipeline(\"/Users/aayushrangra/Desktop/GrapeVine_Disease_Detection/GrapevineLeafDataset/valid/Nazli\")\n",
    "\n",
    "\n",
    "k = Augmentor.Pipeline(\"/Users/aayushrangra/Desktop/GrapeVine_Disease_Detection/GrapevineLeafDataset/test/Ak\")\n",
    "l = Augmentor.Pipeline(\"/Users/aayushrangra/Desktop/GrapeVine_Disease_Detection/GrapevineLeafDataset/test/Ala_Idris\")\n",
    "m = Augmentor.Pipeline(\"/Users/aayushrangra/Desktop/GrapeVine_Disease_Detection/GrapevineLeafDataset/test/Buzgulu\")\n",
    "n = Augmentor.Pipeline(\"/Users/aayushrangra/Desktop/GrapeVine_Disease_Detection/GrapevineLeafDataset/test/Dimnit\")\n",
    "o = Augmentor.Pipeline(\"/Users/aayushrangra/Desktop/GrapeVine_Disease_Detection/GrapevineLeafDataset/test/Nazli\")"
   ]
  },
  {
   "cell_type": "code",
   "execution_count": 36,
   "id": "b5cdb90c",
   "metadata": {},
   "outputs": [],
   "source": [
    "a.rotate(probability=0.3, max_left_rotation=10, max_right_rotation=10)\n",
    "b.rotate(probability=0.3, max_left_rotation=10, max_right_rotation=10)\n",
    "c.rotate(probability=0.3, max_left_rotation=10, max_right_rotation=10)\n",
    "d.rotate(probability=0.3, max_left_rotation=10, max_right_rotation=10)\n",
    "e.rotate(probability=0.3, max_left_rotation=10, max_right_rotation=10)\n",
    "f.rotate(probability=0.3, max_left_rotation=10, max_right_rotation=10)\n",
    "g.rotate(probability=0.3, max_left_rotation=10, max_right_rotation=10)\n",
    "h.rotate(probability=0.3, max_left_rotation=10, max_right_rotation=10)\n",
    "i.rotate(probability=0.3, max_left_rotation=10, max_right_rotation=10)\n",
    "j.rotate(probability=0.3, max_left_rotation=10, max_right_rotation=10)\n",
    "k.rotate(probability=0.3, max_left_rotation=10, max_right_rotation=10)\n",
    "l.rotate(probability=0.3, max_left_rotation=10, max_right_rotation=10)\n",
    "m.rotate(probability=0.3, max_left_rotation=10, max_right_rotation=10)\n",
    "n.rotate(probability=0.3, max_left_rotation=10, max_right_rotation=10)\n",
    "o.rotate(probability=0.3, max_left_rotation=10, max_right_rotation=10)"
   ]
  },
  {
   "cell_type": "code",
   "execution_count": 27,
   "id": "9f4d8d0e",
   "metadata": {},
   "outputs": [],
   "source": [
    "a.rotate90(probability=0.3)\n",
    "a.rotate270(probability=0.3)\n",
    "a.flip_left_right(probability=0.3)\n",
    "a.flip_top_bottom(probability=0.3)\n",
    "a.flip_random(probability=0.3)\n",
    "a.random_brightness(probability = 0.5, min_factor=0.4, max_factor=0.9)\n",
    "a.random_color(probability=0.5, min_factor=0.4, max_factor=0.9)\n",
    "a.random_contrast(probability=0.5, min_factor=0.9, max_factor=1.4)\n",
    "a.zoom(probability=0.7, min_factor=1.1, max_factor=1.5)\n",
    "a.shear(probability=0.3, max_shear_left=0.2, max_shear_right=0.2)\n",
    "a.skew(probability=0.3)"
   ]
  },
  {
   "cell_type": "code",
   "execution_count": 28,
   "id": "8b9b6efe",
   "metadata": {},
   "outputs": [
    {
     "name": "stderr",
     "output_type": "stream",
     "text": [
      "Processing <PIL.Image.Image image mode=RGBA size=511x511 at 0x7FE662736B20>:  61"
     ]
    }
   ],
   "source": [
    "a.sample(1000)"
   ]
  },
  {
   "cell_type": "code",
   "execution_count": 29,
   "id": "70225429",
   "metadata": {},
   "outputs": [],
   "source": [
    "b.rotate90(probability=0.3)\n",
    "b.rotate270(probability=0.3)\n",
    "b.flip_left_right(probability=0.3)\n",
    "b.flip_top_bottom(probability=0.3)\n",
    "b.flip_random(probability=0.3)\n",
    "b.random_brightness(probability = 0.5, min_factor=0.4, max_factor=0.9)\n",
    "b.random_color(probability=0.5, min_factor=0.4, max_factor=0.9)\n",
    "b.random_contrast(probability=0.5, min_factor=0.9, max_factor=1.4)\n",
    "b.zoom(probability=0.7, min_factor=1.1, max_factor=1.5)\n",
    "b.shear(probability=0.3, max_shear_left=0.2, max_shear_right=0.2)\n",
    "b.skew(probability=0.3)"
   ]
  },
  {
   "cell_type": "code",
   "execution_count": 30,
   "id": "aca7b30f",
   "metadata": {},
   "outputs": [],
   "source": [
    "b.sample(1000)"
   ]
  },
  {
   "cell_type": "code",
   "execution_count": 31,
   "id": "681ebdb4",
   "metadata": {},
   "outputs": [],
   "source": [
    "c.rotate90(probability=0.3)\n",
    "c.rotate270(probability=0.3)\n",
    "c.flip_left_right(probability=0.3)\n",
    "c.flip_top_bottom(probability=0.3)\n",
    "c.flip_random(probability=0.3)\n",
    "c.random_brightness(probability = 0.5, min_factor=0.4, max_factor=0.9)\n",
    "c.random_color(probability=0.5, min_factor=0.4, max_factor=0.9)\n",
    "c.random_contrast(probability=0.5, min_factor=0.9, max_factor=1.4)\n",
    "c.zoom(probability=0.7, min_factor=1.1, max_factor=1.5)\n",
    "c.shear(probability=0.3, max_shear_left=0.2, max_shear_right=0.2)\n",
    "c.skew(probability=0.3)"
   ]
  },
  {
   "cell_type": "code",
   "execution_count": 32,
   "id": "83c02e3d",
   "metadata": {},
   "outputs": [],
   "source": [
    "c.sample(1000)"
   ]
  },
  {
   "cell_type": "code",
   "execution_count": 37,
   "id": "38dc4252",
   "metadata": {},
   "outputs": [],
   "source": [
    "d.rotate90(probability=0.3)\n",
    "d.rotate270(probability=0.3)\n",
    "d.flip_left_right(probability=0.3)\n",
    "d.flip_top_bottom(probability=0.3)\n",
    "d.flip_random(probability=0.3)\n",
    "d.random_brightness(probability = 0.5, min_factor=0.4, max_factor=0.9)\n",
    "d.random_color(probability=0.5, min_factor=0.4, max_factor=0.9)\n",
    "d.random_contrast(probability=0.5, min_factor=0.9, max_factor=1.4)\n",
    "d.zoom(probability=0.7, min_factor=1.1, max_factor=1.5)\n",
    "d.shear(probability=0.3, max_shear_left=0.2, max_shear_right=0.2)\n",
    "d.skew(probability=0.3)"
   ]
  },
  {
   "cell_type": "code",
   "execution_count": 38,
   "id": "dc8d55e6",
   "metadata": {},
   "outputs": [],
   "source": [
    "d.sample(1000)"
   ]
  },
  {
   "cell_type": "code",
   "execution_count": 39,
   "id": "9fa5925f",
   "metadata": {},
   "outputs": [],
   "source": [
    "e.rotate90(probability=0.3)\n",
    "e.rotate270(probability=0.3)\n",
    "e.flip_left_right(probability=0.3)\n",
    "e.flip_top_bottom(probability=0.3)\n",
    "e.flip_random(probability=0.3)\n",
    "e.random_brightness(probability = 0.5, min_factor=0.4, max_factor=0.9)\n",
    "e.random_color(probability=0.5, min_factor=0.4, max_factor=0.9)\n",
    "e.random_contrast(probability=0.5, min_factor=0.9, max_factor=1.4)\n",
    "e.zoom(probability=0.7, min_factor=1.1, max_factor=1.5)\n",
    "e.shear(probability=0.3, max_shear_left=0.2, max_shear_right=0.2)\n",
    "e.skew(probability=0.3)"
   ]
  },
  {
   "cell_type": "code",
   "execution_count": 40,
   "id": "c07a165b",
   "metadata": {},
   "outputs": [],
   "source": [
    "e.sample(1000)"
   ]
  },
  {
   "cell_type": "code",
   "execution_count": 68,
   "id": "e681f90c",
   "metadata": {},
   "outputs": [],
   "source": [
    "f = Augmentor.Pipeline(\"/Users/aayushrangra/Desktop/GrapeVine_Disease_Detection/GrapevineLeafDataset/test/Nazli\")"
   ]
  },
  {
   "cell_type": "code",
   "execution_count": 69,
   "id": "bbe75418",
   "metadata": {},
   "outputs": [],
   "source": [
    "f.rotate(probability=0.3, max_left_rotation=10, max_right_rotation=10)\n",
    "f.rotate90(probability=0.3)\n",
    "f.rotate270(probability=0.3)\n",
    "f.flip_left_right(probability=0.3)\n",
    "f.flip_top_bottom(probability=0.3)\n",
    "f.flip_random(probability=0.3)\n",
    "f.random_brightness(probability = 0.5, min_factor=0.4, max_factor=0.9)\n",
    "f.random_color(probability=0.5, min_factor=0.4, max_factor=0.9)\n",
    "f.random_contrast(probability=0.5, min_factor=0.9, max_factor=1.4)\n",
    "f.zoom(probability=0.7, min_factor=1.1, max_factor=1.5)\n",
    "f.shear(probability=0.3, max_shear_left=0.2, max_shear_right=0.2)\n",
    "f.skew(probability=0.3)"
   ]
  },
  {
   "cell_type": "code",
   "execution_count": 70,
   "id": "c1e9030c",
   "metadata": {},
   "outputs": [],
   "source": [
    "f.sample(100)"
   ]
  },
  {
   "cell_type": "code",
   "execution_count": null,
   "id": "3eb14ba4",
   "metadata": {},
   "outputs": [],
   "source": []
  },
  {
   "cell_type": "code",
   "execution_count": null,
   "id": "4d15e762",
   "metadata": {},
   "outputs": [],
   "source": []
  },
  {
   "cell_type": "code",
   "execution_count": null,
   "id": "c12994e6",
   "metadata": {},
   "outputs": [],
   "source": []
  }
 ],
 "metadata": {
  "kernelspec": {
   "display_name": "Python 3 (ipykernel)",
   "language": "python",
   "name": "python3"
  },
  "language_info": {
   "codemirror_mode": {
    "name": "ipython",
    "version": 3
   },
   "file_extension": ".py",
   "mimetype": "text/x-python",
   "name": "python",
   "nbconvert_exporter": "python",
   "pygments_lexer": "ipython3",
   "version": "3.9.13"
  }
 },
 "nbformat": 4,
 "nbformat_minor": 5
}
