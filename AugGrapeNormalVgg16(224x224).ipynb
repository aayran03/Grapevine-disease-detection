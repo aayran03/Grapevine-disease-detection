{
 "cells": [
  {
   "cell_type": "code",
   "execution_count": 1,
   "id": "d4838b4f",
   "metadata": {},
   "outputs": [],
   "source": [
    "import os\n",
    "import PIL\n",
    "import numpy as np\n",
    "from glob import glob\n",
    "import tensorflow as tf\n",
    "from tensorflow import keras\n",
    "import matplotlib.pyplot as plt\n",
    "from tensorflow.keras import layers, regularizers\n",
    "from tensorflow.keras.optimizers import Adam\n",
    "from tensorflow.keras.preprocessing import image\n",
    "from tensorflow.keras.layers import Dense, Flatten\n",
    "from tensorflow.keras.preprocessing.image import ImageDataGenerator\n",
    "from sklearn.metrics import confusion_matrix, classification_report\n",
    "from tensorflow.keras.models import Sequential, load_model, model_from_json, Model"
   ]
  },
  {
   "cell_type": "code",
   "execution_count": 2,
   "id": "5f2d34e8",
   "metadata": {},
   "outputs": [],
   "source": [
    "train_dir ='/Users/aayushrangra/Desktop/GrapeVine_Disease_Detection/GrapeResizedAug/train'\n",
    "valid_dir ='/Users/aayushrangra/Desktop/GrapeVine_Disease_Detection/GrapeResizedAug/valid'\n",
    "test_dir = '/Users/aayushrangra/Desktop/GrapeVine_Disease_Detection/GrapeResizedAug/test'\n",
    "\n",
    "num_classes = 5"
   ]
  },
  {
   "cell_type": "code",
   "execution_count": 3,
   "id": "f804d797",
   "metadata": {},
   "outputs": [
    {
     "name": "stdout",
     "output_type": "stream",
     "text": [
      "Found 4400 images belonging to 5 classes.\n",
      "Found 450 images belonging to 5 classes.\n",
      "Found 450 images belonging to 5 classes.\n"
     ]
    }
   ],
   "source": [
    "IMAGE_SIZE = [224, 224]\n",
    "\n",
    "train_gen = ImageDataGenerator(\n",
    "    rescale=1./255\n",
    "    )\n",
    "val_gen = ImageDataGenerator(\n",
    "    rescale=1./255\n",
    "    )  \n",
    "test_gen = ImageDataGenerator(\n",
    "    rescale=1./255\n",
    "    )\n",
    "\n",
    "\n",
    "train_set = train_gen.flow_from_directory(\n",
    "    train_dir,\n",
    "    class_mode = 'categorical',\n",
    "    target_size = IMAGE_SIZE,\n",
    "    batch_size = 16\n",
    "    )\n",
    "val_set = val_gen.flow_from_directory(\n",
    "    valid_dir,\n",
    "    class_mode = 'categorical',\n",
    "    target_size = IMAGE_SIZE,\n",
    "    batch_size = 16\n",
    "    )\n",
    "test_set = test_gen.flow_from_directory(\n",
    "    test_dir,\n",
    "    class_mode = 'categorical',\n",
    "    target_size = IMAGE_SIZE,\n",
    "    batch_size = 16\n",
    ")"
   ]
  },
  {
   "cell_type": "code",
   "execution_count": 4,
   "id": "2d5c4bbc",
   "metadata": {},
   "outputs": [
    {
     "name": "stderr",
     "output_type": "stream",
     "text": [
      "2023-11-28 17:58:06.300551: I metal_plugin/src/device/metal_device.cc:1154] Metal device set to: Apple M1\n",
      "2023-11-28 17:58:06.300584: I metal_plugin/src/device/metal_device.cc:296] systemMemory: 8.00 GB\n",
      "2023-11-28 17:58:06.300598: I metal_plugin/src/device/metal_device.cc:313] maxCacheSize: 2.67 GB\n",
      "2023-11-28 17:58:06.300646: I tensorflow/core/common_runtime/pluggable_device/pluggable_device_factory.cc:306] Could not identify NUMA node of platform GPU ID 0, defaulting to 0. Your kernel may not have been built with NUMA support.\n",
      "2023-11-28 17:58:06.300667: I tensorflow/core/common_runtime/pluggable_device/pluggable_device_factory.cc:272] Created TensorFlow device (/job:localhost/replica:0/task:0/device:GPU:0 with 0 MB memory) -> physical PluggableDevice (device: 0, name: METAL, pci bus id: <undefined>)\n"
     ]
    }
   ],
   "source": [
    "from keras.models import Model\n",
    "from keras.layers import Flatten, Dense, BatchNormalization\n",
    "from keras.applications import VGG16\n",
    "#from keras.preprocessing import image\n",
    "\n",
    "IMAGE_SIZE = [224, 224]  # we will keep the image size as (64,64). You can increase the size for better results. \n",
    "\n",
    "# loading the weights of VGG16 without the top layer. These weights are trained on Imagenet dataset.\n",
    "vgg = VGG16(input_shape = IMAGE_SIZE + [3], weights = 'imagenet', include_top = False)  # input_shape = (64,64,3) as required by VGG\n",
    "\n",
    "# this will exclude the initial layers from training phase as there are already been trained.\n",
    "for layer in vgg.layers:\n",
    "    layer.trainable = False\n",
    "\n",
    "x = Flatten()(vgg.output)\n",
    "x = BatchNormalization()(x)\n",
    "x = Dense(128, activation = 'relu')(x)                      # we can add a new fully connected layer but it will increase the execution time.\n",
    "x = Dense(num_classes, activation = 'softmax')(x)  # adding the output layer with softmax function as this is a multi label classification problem.\n",
    "\n",
    "model = Model(inputs = vgg.input, outputs = x)\n",
    "\n",
    "model.compile(loss='categorical_crossentropy', optimizer='adam', metrics=['accuracy'])"
   ]
  },
  {
   "cell_type": "code",
   "execution_count": 5,
   "id": "e06d2824",
   "metadata": {},
   "outputs": [
    {
     "name": "stdout",
     "output_type": "stream",
     "text": [
      "Model: \"model\"\n",
      "_________________________________________________________________\n",
      " Layer (type)                Output Shape              Param #   \n",
      "=================================================================\n",
      " input_1 (InputLayer)        [(None, 224, 224, 3)]     0         \n",
      "                                                                 \n",
      " block1_conv1 (Conv2D)       (None, 224, 224, 64)      1792      \n",
      "                                                                 \n",
      " block1_conv2 (Conv2D)       (None, 224, 224, 64)      36928     \n",
      "                                                                 \n",
      " block1_pool (MaxPooling2D)  (None, 112, 112, 64)      0         \n",
      "                                                                 \n",
      " block2_conv1 (Conv2D)       (None, 112, 112, 128)     73856     \n",
      "                                                                 \n",
      " block2_conv2 (Conv2D)       (None, 112, 112, 128)     147584    \n",
      "                                                                 \n",
      " block2_pool (MaxPooling2D)  (None, 56, 56, 128)       0         \n",
      "                                                                 \n",
      " block3_conv1 (Conv2D)       (None, 56, 56, 256)       295168    \n",
      "                                                                 \n",
      " block3_conv2 (Conv2D)       (None, 56, 56, 256)       590080    \n",
      "                                                                 \n",
      " block3_conv3 (Conv2D)       (None, 56, 56, 256)       590080    \n",
      "                                                                 \n",
      " block3_pool (MaxPooling2D)  (None, 28, 28, 256)       0         \n",
      "                                                                 \n",
      " block4_conv1 (Conv2D)       (None, 28, 28, 512)       1180160   \n",
      "                                                                 \n",
      " block4_conv2 (Conv2D)       (None, 28, 28, 512)       2359808   \n",
      "                                                                 \n",
      " block4_conv3 (Conv2D)       (None, 28, 28, 512)       2359808   \n",
      "                                                                 \n",
      " block4_pool (MaxPooling2D)  (None, 14, 14, 512)       0         \n",
      "                                                                 \n",
      " block5_conv1 (Conv2D)       (None, 14, 14, 512)       2359808   \n",
      "                                                                 \n",
      " block5_conv2 (Conv2D)       (None, 14, 14, 512)       2359808   \n",
      "                                                                 \n",
      " block5_conv3 (Conv2D)       (None, 14, 14, 512)       2359808   \n",
      "                                                                 \n",
      " block5_pool (MaxPooling2D)  (None, 7, 7, 512)         0         \n",
      "                                                                 \n",
      " flatten (Flatten)           (None, 25088)             0         \n",
      "                                                                 \n",
      " batch_normalization (Batch  (None, 25088)             100352    \n",
      " Normalization)                                                  \n",
      "                                                                 \n",
      " dense (Dense)               (None, 128)               3211392   \n",
      "                                                                 \n",
      " dense_1 (Dense)             (None, 5)                 645       \n",
      "                                                                 \n",
      "=================================================================\n",
      "Total params: 18027077 (68.77 MB)\n",
      "Trainable params: 3262213 (12.44 MB)\n",
      "Non-trainable params: 14764864 (56.32 MB)\n",
      "_________________________________________________________________\n"
     ]
    }
   ],
   "source": [
    "model.summary()"
   ]
  },
  {
   "cell_type": "code",
   "execution_count": 6,
   "id": "9dfe97ea-4673-4afc-94de-73aa396767d7",
   "metadata": {},
   "outputs": [
    {
     "name": "stdout",
     "output_type": "stream",
     "text": [
      "Epoch 1/15\n"
     ]
    },
    {
     "name": "stderr",
     "output_type": "stream",
     "text": [
      "2023-11-28 17:58:21.075263: I tensorflow/core/grappler/optimizers/custom_graph_optimizer_registry.cc:117] Plugin optimizer for device_type GPU is enabled.\n"
     ]
    },
    {
     "name": "stdout",
     "output_type": "stream",
     "text": [
      "275/275 [==============================] - 138s 494ms/step - loss: 2.2453 - accuracy: 0.7591 - val_loss: 1.2932 - val_accuracy: 0.7711\n",
      "Epoch 2/15\n",
      "275/275 [==============================] - 134s 487ms/step - loss: 0.5820 - accuracy: 0.8941 - val_loss: 2.2599 - val_accuracy: 0.7244\n",
      "Epoch 3/15\n",
      "275/275 [==============================] - 131s 476ms/step - loss: 0.7091 - accuracy: 0.9005 - val_loss: 2.0637 - val_accuracy: 0.7800\n",
      "Epoch 4/15\n",
      "275/275 [==============================] - 131s 478ms/step - loss: 0.5383 - accuracy: 0.9259 - val_loss: 3.0010 - val_accuracy: 0.8089\n",
      "Epoch 5/15\n",
      "275/275 [==============================] - 132s 478ms/step - loss: 0.6029 - accuracy: 0.9293 - val_loss: 3.2948 - val_accuracy: 0.7978\n",
      "Epoch 6/15\n",
      "275/275 [==============================] - 131s 478ms/step - loss: 0.7200 - accuracy: 0.9259 - val_loss: 3.6181 - val_accuracy: 0.7822\n",
      "Epoch 7/15\n",
      "275/275 [==============================] - 131s 476ms/step - loss: 0.5800 - accuracy: 0.9448 - val_loss: 2.6000 - val_accuracy: 0.8111\n",
      "Epoch 8/15\n",
      "275/275 [==============================] - 131s 478ms/step - loss: 0.3936 - accuracy: 0.9564 - val_loss: 4.8602 - val_accuracy: 0.8178\n",
      "Epoch 9/15\n",
      "275/275 [==============================] - 132s 480ms/step - loss: 0.4352 - accuracy: 0.9577 - val_loss: 3.4994 - val_accuracy: 0.7911\n",
      "Epoch 10/15\n",
      "275/275 [==============================] - 132s 479ms/step - loss: 0.5791 - accuracy: 0.9527 - val_loss: 6.1940 - val_accuracy: 0.7356\n",
      "Epoch 11/15\n",
      "275/275 [==============================] - 131s 476ms/step - loss: 0.5934 - accuracy: 0.9557 - val_loss: 5.8153 - val_accuracy: 0.7733\n",
      "Epoch 12/15\n",
      "275/275 [==============================] - 131s 476ms/step - loss: 0.5416 - accuracy: 0.9591 - val_loss: 3.6444 - val_accuracy: 0.8200\n",
      "Epoch 13/15\n",
      "275/275 [==============================] - 131s 476ms/step - loss: 0.5434 - accuracy: 0.9616 - val_loss: 4.6557 - val_accuracy: 0.7911\n",
      "Epoch 14/15\n",
      "275/275 [==============================] - 131s 476ms/step - loss: 0.5065 - accuracy: 0.9684 - val_loss: 4.2939 - val_accuracy: 0.8400\n",
      "Epoch 15/15\n",
      "275/275 [==============================] - 131s 476ms/step - loss: 0.3800 - accuracy: 0.9707 - val_loss: 4.5742 - val_accuracy: 0.8289\n"
     ]
    }
   ],
   "source": [
    "VGG_model = model.fit(\n",
    "     train_set,\n",
    "     validation_data=val_set, \n",
    "     epochs=15,\n",
    "     steps_per_epoch = len(train_set),\n",
    "     validation_steps = len(val_set),)"
   ]
  },
  {
   "cell_type": "code",
   "execution_count": 7,
   "id": "d690768a",
   "metadata": {},
   "outputs": [
    {
     "data": {
      "text/plain": [
       "dict_keys(['loss', 'accuracy', 'val_loss', 'val_accuracy'])"
      ]
     },
     "execution_count": 7,
     "metadata": {},
     "output_type": "execute_result"
    }
   ],
   "source": [
    "VGG_model.history.keys()"
   ]
  },
  {
   "cell_type": "code",
   "execution_count": 8,
   "id": "6e0ae9d2",
   "metadata": {},
   "outputs": [],
   "source": [
    "acc = VGG_model.history['accuracy']\n",
    "val_acc = VGG_model.history['val_accuracy']\n",
    "\n",
    "loss = VGG_model.history['loss']\n",
    "val_loss = VGG_model.history['val_loss']"
   ]
  },
  {
   "cell_type": "code",
   "execution_count": 10,
   "id": "21b2cf1b",
   "metadata": {},
   "outputs": [
    {
     "data": {
      "image/png": "[encoded data removed]",
      "text/plain": [
       "<Figure size 800x800 with 1 Axes>"
      ]
     },
     "metadata": {},
     "output_type": "display_data"
    },
    {
     "data": {
      "image/png": "[encoded data removed]",
      "text/plain": [
       "<Figure size 640x480 with 1 Axes>"
      ]
     },
     "metadata": {},
     "output_type": "display_data"
    }
   ],
   "source": [
    "plt.figure(figsize=(8, 8))\n",
    "plt.subplot(1, 2, 1)\n",
    "plt.plot(range(15), acc, label='Training Accuracy')\n",
    "plt.plot(range(15), val_acc, label='Validation Accuracy')\n",
    "plt.legend(loc='lower right')\n",
    "plt.title('Training and Validation Accuracy')\n",
    "plt.show()\n",
    "\n",
    "\n",
    "plt.subplot(1, 2, 2)\n",
    "plt.plot(range(15), loss, label='Training Loss')\n",
    "plt.plot(range(15), val_loss, label='Validation Loss')\n",
    "plt.legend(loc='upper right')\n",
    "plt.title('Training and Validation Loss')\n",
    "plt.show()"
   ]
  },
  {
   "cell_type": "code",
   "execution_count": 11,
   "id": "b1dbb013",
   "metadata": {},
   "outputs": [
    {
     "name": "stdout",
     "output_type": "stream",
     "text": [
      "29/29 [==============================] - 11s 387ms/step\n"
     ]
    }
   ],
   "source": [
    "predictions = model.predict(test_set)"
   ]
  },
  {
   "cell_type": "code",
   "execution_count": 12,
   "id": "a8a2be13",
   "metadata": {},
   "outputs": [],
   "source": [
    "y_pred = np.argmax(predictions, axis=-1)"
   ]
  },
  {
   "cell_type": "code",
   "execution_count": 13,
   "id": "52bea423",
   "metadata": {},
   "outputs": [
    {
     "data": {
      "text/plain": [
       "{'Ak': 0, 'Ala_Idris': 1, 'Buzgulu': 2, 'Dimnit': 3, 'Nazli': 4}"
      ]
     },
     "execution_count": 13,
     "metadata": {},
     "output_type": "execute_result"
    }
   ],
   "source": [
    "test_set.class_indices"
   ]
  },
  {
   "cell_type": "code",
   "execution_count": 14,
   "id": "f69bd7f8",
   "metadata": {},
   "outputs": [
    {
     "name": "stdout",
     "output_type": "stream",
     "text": [
      "29/29 - 12s - loss: 5.9323 - accuracy: 0.8333 - 12s/epoch - 413ms/step\n"
     ]
    }
   ],
   "source": [
    "scores = model.evaluate(test_set, batch_size=16, verbose=2)"
   ]
  },
  {
   "cell_type": "code",
   "execution_count": null,
   "id": "a37333ac",
   "metadata": {},
   "outputs": [],
   "source": []
  }
 ],
 "metadata": {
  "kernelspec": {
   "display_name": "Python 3 (ipykernel)",
   "language": "python",
   "name": "python3"
  },
  "language_info": {
   "codemirror_mode": {
    "name": "ipython",
    "version": 3
   },
   "file_extension": ".py",
   "mimetype": "text/x-python",
   "name": "python",
   "nbconvert_exporter": "python",
   "pygments_lexer": "ipython3",
   "version": "3.11.5"
  }
 },
 "nbformat": 4,
 "nbformat_minor": 5
}
