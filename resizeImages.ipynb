{
 "cells": [
  {
   "cell_type": "code",
   "execution_count": 13,
   "id": "e35ccc95",
   "metadata": {},
   "outputs": [
    {
     "name": "stderr",
     "output_type": "stream",
     "text": [
      "/var/folders/8n/95vlvnl93lg2r18pnsrgf8f40000gn/T/ipykernel_5665/2160039368.py:20: DeprecationWarning: ANTIALIAS is deprecated and will be removed in Pillow 10 (2023-07-01). Use LANCZOS or Resampling.LANCZOS instead.\n",
      "  resized_image = image.resize(target_size, Image.ANTIALIAS)\n"
     ]
    },
    {
     "name": "stdout",
     "output_type": "stream",
     "text": [
      "Resizing complete.\n"
     ]
    }
   ],
   "source": [
    "from PIL import Image\n",
    "import os\n",
    "\n",
    "input_folder = \"/Users/aayushrangra/Desktop/GrapeVine_Disease_Detection/grapeLeavesDataset/test/Ala_Idris\"\n",
    "output_folder = \"/Users/aayushrangra/Desktop/GrapeResizedAug/test/Ala_Idris\"\n",
    "target_size = (224, 224)\n",
    "\n",
    "# Create the output folder if it doesn't exist\n",
    "if not os.path.exists(output_folder):\n",
    "    os.makedirs(output_folder)\n",
    "\n",
    "# Loop through all files in the input folder\n",
    "for filename in os.listdir(input_folder):\n",
    "    if filename.endswith(\".png\"):\n",
    "        # Open the image\n",
    "        input_path = os.path.join(input_folder, filename)\n",
    "        image = Image.open(input_path)\n",
    "\n",
    "        # Resize the image\n",
    "        resized_image = image.resize(target_size, Image.ANTIALIAS)\n",
    "\n",
    "        # Save the resized image to the output folder\n",
    "        output_path = os.path.join(output_folder, filename)\n",
    "        resized_image.save(output_path, \"PNG\")\n",
    "\n",
    "print(\"Resizing complete.\")\n"
   ]
  },
  {
   "cell_type": "code",
   "execution_count": null,
   "id": "3d827c43",
   "metadata": {},
   "outputs": [],
   "source": []
  }
 ],
 "metadata": {
  "kernelspec": {
   "display_name": "Python 3 (ipykernel)",
   "language": "python",
   "name": "python3"
  },
  "language_info": {
   "codemirror_mode": {
    "name": "ipython",
    "version": 3
   },
   "file_extension": ".py",
   "mimetype": "text/x-python",
   "name": "python",
   "nbconvert_exporter": "python",
   "pygments_lexer": "ipython3",
   "version": "3.9.13"
  }
 },
 "nbformat": 4,
 "nbformat_minor": 5
}
