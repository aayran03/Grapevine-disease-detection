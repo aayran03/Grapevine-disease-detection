{
 "cells": [
  {
   "cell_type": "code",
   "execution_count": 1,
   "id": "b03db256",
   "metadata": {},
   "outputs": [],
   "source": [
    "import numpy as np\n",
    "import pandas as pd\n",
    "import matplotlib.pyplot as plt\n",
    "from glob import glob"
   ]
  },
  {
   "cell_type": "code",
   "execution_count": 2,
   "id": "8b6e2f98",
   "metadata": {},
   "outputs": [],
   "source": [
    "training_dir = '/Users/aayushrangra/Desktop/GrapeVine_Disease_Detection/custom_dataset/train'\n",
    "test_dir = '/Users/aayushrangra/Desktop/GrapeVine_Disease_Detection/custom_dataset/test'\n",
    "validation_dir = '/Users/aayushrangra/Desktop/GrapeVine_Disease_Detection/custom_dataset/Validation'"
   ]
  },
  {
   "cell_type": "code",
   "execution_count": 3,
   "id": "72a9d150",
   "metadata": {},
   "outputs": [],
   "source": [
    "image_files = glob(training_dir + '/*/*.jp*g')\n",
    "valid_image_files = glob(validation_dir + '/*/*.jp*g')"
   ]
  },
  {
   "cell_type": "code",
   "execution_count": null,
   "id": "a69da6f9",
   "metadata": {},
   "outputs": [],
   "source": [
    "folders = glob(training_dir + '/*')\n",
    "num_classes = len(folders)\n",
    "print ('Total Classes = ' + str(num_classes))"
   ]
  },
  {
   "cell_type": "code",
   "execution_count": null,
   "id": "c500ac0c",
   "metadata": {},
   "outputs": [],
   "source": [
    "!mkdir ~/.keras\n",
    "!mkdir ~/.keras/models\n",
    "!cp ../input/keras-pretrained-models/*notop* ~/.keras/models/\n",
    "!cp ../input/keras-pretrained-models/imagenet_class_index.json ~/.keras/models/"
   ]
  },
  {
   "cell_type": "code",
   "execution_count": null,
   "id": "6fd6102d",
   "metadata": {},
   "outputs": [],
   "source": [
    "from keras.models import Model\n",
    "from keras.layers import Flatten, Dense\n",
    "from keras.applications import VGG16\n",
    "#from keras.preprocessing import image\n",
    "\n",
    "IMAGE_SIZE = [256, 256]  # we will keep the image size as (64,64). You can increase the size for better results. \n",
    "\n",
    "# loading the weights of VGG16 without the top layer. These weights are trained on Imagenet dataset.\n",
    "vgg = VGG16(input_shape = IMAGE_SIZE + [3], weights = 'imagenet', include_top = False)  # input_shape = (64,64,3) as required by VGG\n",
    "\n",
    "# this will exclude the initial layers from training phase as there are already been trained.\n",
    "for layer in vgg.layers:\n",
    "    layer.trainable = False\n",
    "\n",
    "x = Flatten()(vgg.output)\n",
    "#x = Dense(128, activation = 'relu')(x)   # we can add a new fully connected layer but it will increase the execution time.\n",
    "x = Dense(num_classes, activation = 'softmax')(x)  # adding the output layer with softmax function as this is a multi label classification problem.\n",
    "\n",
    "model = Model(inputs = vgg.input, outputs = x)\n",
    "\n",
    "model.compile(loss='categorical_crossentropy', optimizer='adam', metrics=['accuracy'])"
   ]
  },
  {
   "cell_type": "code",
   "execution_count": null,
   "id": "3da56012",
   "metadata": {},
   "outputs": [],
   "source": [
    "model.summary()"
   ]
  },
  {
   "cell_type": "code",
   "execution_count": null,
   "id": "c18dedf2",
   "metadata": {},
   "outputs": [],
   "source": [
    "from keras.preprocessing.image import ImageDataGenerator\n",
    "from keras.applications.vgg16 import preprocess_input\n",
    "\n",
    "training_datagen = ImageDataGenerator(\n",
    "                                    rescale=1./255,   # all pixel values will be between 0 an 1\n",
    "                                    shear_range=0.2, \n",
    "                                    zoom_range=0.2,\n",
    "                                    horizontal_flip=True,\n",
    "                                    preprocessing_function=preprocess_input)\n",
    "\n",
    "validation_datagen = ImageDataGenerator(rescale = 1./255, preprocessing_function=preprocess_input)\n",
    "\n",
    "training_generator = training_datagen.flow_from_directory(training_dir, target_size = IMAGE_SIZE, batch_size = 200, class_mode = 'categorical')\n",
    "validation_generator = validation_datagen.flow_from_directory(validation_dir, target_size = IMAGE_SIZE, batch_size = 200, class_mode = 'categorical')\n"
   ]
  },
  {
   "cell_type": "code",
   "execution_count": null,
   "id": "ded7c078",
   "metadata": {},
   "outputs": [],
   "source": [
    "training_generator.class_indices"
   ]
  },
  {
   "cell_type": "code",
   "execution_count": null,
   "id": "7e04ce89",
   "metadata": {},
   "outputs": [],
   "source": [
    "training_images = 37836\n",
    "validation_images = 12709\n",
    "\n",
    "history = model.fit(training_generator,  # this should be equal to total number of images in training set. But to speed up the execution, I am only using 10000 images. Change this for better results. \n",
    "                   epochs = 1,  # change this for better results\n",
    "                   validation_data = validation_generator,\n",
    "                   )  # this should be equal to total number of images in validation set."
   ]
  },
  {
   "cell_type": "code",
   "execution_count": null,
   "id": "64445849",
   "metadata": {},
   "outputs": [],
   "source": [
    "print ('Training Accuracy = ' + str(history.history['acc']))\n",
    "print ('Validation Accuracy = ' + str(history.history['val_acc']))"
   ]
  }
 ],
 "metadata": {
  "kernelspec": {
   "display_name": "Python 3 (ipykernel)",
   "language": "python",
   "name": "python3"
  },
  "language_info": {
   "codemirror_mode": {
    "name": "ipython",
    "version": 3
   },
   "file_extension": ".py",
   "mimetype": "text/x-python",
   "name": "python",
   "nbconvert_exporter": "python",
   "pygments_lexer": "ipython3",
   "version": "3.9.13"
  }
 },
 "nbformat": 4,
 "nbformat_minor": 5
}
