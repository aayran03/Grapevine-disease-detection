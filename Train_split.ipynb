{
 "cells": [
  {
   "cell_type": "code",
   "execution_count": 1,
   "id": "c07b8d75",
   "metadata": {},
   "outputs": [],
   "source": [
    "from sklearn.model_selection import train_test_split\n",
    "import shutil\n",
    "import os\n",
    "\n",
    "# Set the path to your image dataset\n",
    "dataset_path = \"/Users/aayushrangra/Desktop/GrapeVine_Disease_Detection/custom_dataset\"\n",
    "\n",
    "# Set the path to create train, valid, and test directories\n",
    "train_path = \"/Users/aayushrangra/Desktop/GrapeVine_Disease_Detection/customdataset/train\"\n",
    "valid_path = \"/Users/aayushrangra/Desktop/GrapeVine_Disease_Detection/customdataset/valid\"\n",
    "test_path = \"/Users/aayushrangra/Desktop/GrapeVine_Disease_Detection/customdataset/test\"\n",
    "# Set the random seed for reproducibility\n",
    "random_seed = 42\n",
    "\n",
    "# Get the list of all class folders in the dataset\n",
    "class_folders = [folder for folder in os.listdir(dataset_path) if os.path.isdir(os.path.join(dataset_path, folder))]\n",
    "\n",
    "for class_folder in class_folders:\n",
    "    class_path = os.path.join(dataset_path, class_folder)\n",
    "\n",
    "    # Get the list of all image files in the class folder\n",
    "    class_images = os.listdir(class_path)\n",
    "\n",
    "    # Split the class dataset into training and remaining (validation + test)\n",
    "    train_images, remaining_images = train_test_split(class_images, train_size=0.7, random_state=random_seed)\n",
    "\n",
    "    # Split the remaining class dataset into validation and test sets\n",
    "    valid_images, test_images = train_test_split(remaining_images, train_size=0.5, random_state=random_seed)\n",
    "\n",
    "    # Create class-specific directories if they don't exist\n",
    "    for path in [os.path.join(train_path, class_folder), os.path.join(valid_path, class_folder), os.path.join(test_path, class_folder)]:\n",
    "        os.makedirs(path, exist_ok=True)\n",
    "\n",
    "    # Function to move files to the specified directory\n",
    "    def move_files(file_list, source_dir, destination_dir):\n",
    "        for file in file_list:\n",
    "            source_path = os.path.join(source_dir, class_folder, file)\n",
    "            destination_path = os.path.join(destination_dir, class_folder, file)\n",
    "            shutil.move(source_path, destination_path)\n",
    "\n",
    "    # Move images to their respective directories\n",
    "    move_files(train_images, dataset_path, train_path)\n",
    "    move_files(valid_images, dataset_path, valid_path)\n",
    "    move_files(test_images, dataset_path, test_path)\n"
   ]
  },
  {
   "cell_type": "code",
   "execution_count": null,
   "id": "9f5c9ca9",
   "metadata": {},
   "outputs": [],
   "source": []
  }
 ],
 "metadata": {
  "kernelspec": {
   "display_name": "Python 3 (ipykernel)",
   "language": "python",
   "name": "python3"
  },
  "language_info": {
   "codemirror_mode": {
    "name": "ipython",
    "version": 3
   },
   "file_extension": ".py",
   "mimetype": "text/x-python",
   "name": "python",
   "nbconvert_exporter": "python",
   "pygments_lexer": "ipython3",
   "version": "3.11.5"
  }
 },
 "nbformat": 4,
 "nbformat_minor": 5
}
