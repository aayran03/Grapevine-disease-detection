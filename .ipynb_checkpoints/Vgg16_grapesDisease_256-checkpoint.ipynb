{
 "cells": [
  {
   "cell_type": "code",
   "execution_count": 1,
   "id": "432064ea",
   "metadata": {},
   "outputs": [],
   "source": [
    "import os\n",
    "import PIL\n",
    "import numpy as np\n",
    "from glob import glob\n",
    "import tensorflow as tf\n",
    "from tensorflow import keras\n",
    "import matplotlib.pyplot as plt\n",
    "from tensorflow.keras import layers, regularizers\n",
    "from tensorflow.keras.optimizers import Adam\n",
    "from tensorflow.keras.preprocessing import image\n",
    "from tensorflow.keras.layers import Dense, Flatten\n",
    "from tensorflow.keras.preprocessing.image import ImageDataGenerator\n",
    "from sklearn.metrics import confusion_matrix, classification_report\n",
    "from tensorflow.keras.models import Sequential, load_model, model_from_json, Model"
   ]
  },
  {
   "cell_type": "code",
   "execution_count": 2,
   "id": "c295b91c",
   "metadata": {},
   "outputs": [
    {
     "name": "stderr",
     "output_type": "stream",
     "text": [
      "2023-11-28 22:07:15.905977: I metal_plugin/src/device/metal_device.cc:1154] Metal device set to: Apple M1\n",
      "2023-11-28 22:07:15.906008: I metal_plugin/src/device/metal_device.cc:296] systemMemory: 8.00 GB\n",
      "2023-11-28 22:07:15.906015: I metal_plugin/src/device/metal_device.cc:313] maxCacheSize: 2.67 GB\n",
      "2023-11-28 22:07:15.906241: I tensorflow/core/common_runtime/pluggable_device/pluggable_device_factory.cc:306] Could not identify NUMA node of platform GPU ID 0, defaulting to 0. Your kernel may not have been built with NUMA support.\n",
      "2023-11-28 22:07:15.906585: I tensorflow/core/common_runtime/pluggable_device/pluggable_device_factory.cc:272] Created TensorFlow device (/job:localhost/replica:0/task:0/device:GPU:0 with 0 MB memory) -> physical PluggableDevice (device: 0, name: METAL, pci bus id: <undefined>)\n"
     ]
    }
   ],
   "source": [
    "from keras.models import Model\n",
    "from keras.layers import Flatten, Dense, BatchNormalization, Dropout\n",
    "from keras.applications import VGG16\n",
    "from tensorflow.keras.regularizers import l2\n",
    "#from keras.preprocessing import image\n",
    "num_classes = 4\n",
    "\n",
    "IMAGE_SIZE = [256, 256]  # we will keep the image size as (64,64). You can increase the size for better results. \n",
    "\n",
    "# loading the weights of VGG16 without the top layer. These weights are trained on Imagenet dataset.\n",
    "vgg = VGG16(input_shape = IMAGE_SIZE + [3], weights = 'imagenet', include_top = False)  # input_shape = (64,64,3) as required by VGG\n",
    "\n",
    "# this will exclude the initial layers from training phase as there are already been trained.\n",
    "for layer in vgg.layers:\n",
    "    layer.trainable = False\n",
    "\n",
    "x = Flatten()(vgg.output)\n",
    "x = BatchNormalization()(x)\n",
    "x = Dense(128, activation='relu')(x)\n",
    "x = Dense(num_classes, activation = 'softmax')(x)  # adding the output layer with softmax function as this is a multi label classification problem.\n",
    "\n",
    "model = Model(inputs = vgg.input, outputs = x)\n",
    "\n",
    "model.compile(loss='categorical_crossentropy', optimizer='adam', metrics=['accuracy'])"
   ]
  },
  {
   "cell_type": "code",
   "execution_count": 3,
   "id": "747fe871",
   "metadata": {},
   "outputs": [],
   "source": [
    "train_dir ='/Users/aayushrangra/Desktop/GrapeVine_Disease_Detection/custom_dataset/train'\n",
    "valid_dir ='/Users/aayushrangra/Desktop/GrapeVine_Disease_Detection/custom_dataset/valid'\n",
    "test_dir = '/Users/aayushrangra/Desktop/GrapeVine_Disease_Detection/custom_dataset/test'\n"
   ]
  },
  {
   "cell_type": "code",
   "execution_count": 4,
   "id": "368cad6f",
   "metadata": {},
   "outputs": [
    {
     "name": "stdout",
     "output_type": "stream",
     "text": [
      "Found 25895 images belonging to 4 classes.\n",
      "Found 3427 images belonging to 4 classes.\n",
      "Found 3245 images belonging to 4 classes.\n"
     ]
    }
   ],
   "source": [
    "IMAGE_SIZE = [256, 256]\n",
    "\n",
    "train_gen = ImageDataGenerator(\n",
    "    rescale=1./255\n",
    "    )\n",
    "val_gen = ImageDataGenerator(\n",
    "    rescale=1./255\n",
    "    )  \n",
    "test_gen = ImageDataGenerator(\n",
    "    rescale=1./255\n",
    "    )\n",
    "\n",
    "\n",
    "train_set = train_gen.flow_from_directory(\n",
    "    train_dir,\n",
    "    class_mode = 'categorical',\n",
    "    target_size = IMAGE_SIZE,\n",
    "    batch_size = 16\n",
    "    )\n",
    "val_set = val_gen.flow_from_directory(\n",
    "    valid_dir,\n",
    "    class_mode = 'categorical',\n",
    "    target_size = IMAGE_SIZE,\n",
    "    batch_size = 16\n",
    "    )\n",
    "test_set = test_gen.flow_from_directory(\n",
    "    test_dir,\n",
    "    class_mode = 'categorical',\n",
    "    target_size = IMAGE_SIZE,\n",
    "    batch_size = 16\n",
    ")"
   ]
  },
  {
   "cell_type": "code",
   "execution_count": 5,
   "id": "73bca291",
   "metadata": {},
   "outputs": [],
   "source": [
    "model.compile(\n",
    "    loss=tf.keras.losses.CategoricalCrossentropy(from_logits=False),\n",
    "    optimizer=tf.keras.optimizers.legacy.Adam(learning_rate=1e-5),\n",
    "    metrics=['accuracy']\n",
    "    )"
   ]
  },
  {
   "cell_type": "code",
   "execution_count": 6,
   "id": "689a8c46",
   "metadata": {},
   "outputs": [
    {
     "name": "stdout",
     "output_type": "stream",
     "text": [
      "Epoch 1/5\n"
     ]
    },
    {
     "name": "stderr",
     "output_type": "stream",
     "text": [
      "2023-11-28 22:07:24.301392: I tensorflow/core/grappler/optimizers/custom_graph_optimizer_registry.cc:117] Plugin optimizer for device_type GPU is enabled.\n"
     ]
    },
    {
     "name": "stdout",
     "output_type": "stream",
     "text": [
      "1619/1619 [==============================] - 1202s 742ms/step - loss: 0.2395 - accuracy: 0.9113 - val_loss: 0.0677 - val_accuracy: 0.9767\n",
      "Epoch 2/5\n",
      "1619/1619 [==============================] - 1242s 767ms/step - loss: 0.0804 - accuracy: 0.9713 - val_loss: 0.0435 - val_accuracy: 0.9840\n",
      "Epoch 3/5\n",
      "1619/1619 [==============================] - 1306s 807ms/step - loss: 0.0536 - accuracy: 0.9816 - val_loss: 0.0309 - val_accuracy: 0.9880\n",
      "Epoch 4/5\n",
      "1619/1619 [==============================] - 861s 531ms/step - loss: 0.0406 - accuracy: 0.9859 - val_loss: 0.0239 - val_accuracy: 0.9939\n",
      "Epoch 5/5\n",
      "1619/1619 [==============================] - 759s 469ms/step - loss: 0.0330 - accuracy: 0.9893 - val_loss: 0.0201 - val_accuracy: 0.9942\n"
     ]
    }
   ],
   "source": [
    "VGG_model = model.fit(\n",
    "     train_set,\n",
    "     validation_data=val_set, \n",
    "     epochs=5,\n",
    "     steps_per_epoch = len(train_set),\n",
    "     validation_steps = len(val_set),)"
   ]
  },
  {
   "cell_type": "code",
   "execution_count": 7,
   "id": "f24d23d9",
   "metadata": {},
   "outputs": [
    {
     "data": {
      "text/plain": [
       "dict_keys(['loss', 'accuracy', 'val_loss', 'val_accuracy'])"
      ]
     },
     "execution_count": 7,
     "metadata": {},
     "output_type": "execute_result"
    }
   ],
   "source": [
    "VGG_model.history.keys()"
   ]
  },
  {
   "cell_type": "code",
   "execution_count": 8,
   "id": "30cab414",
   "metadata": {},
   "outputs": [],
   "source": [
    "acc = VGG_model.history['accuracy']\n",
    "val_acc = VGG_model.history['val_accuracy']\n",
    "\n",
    "loss = VGG_model.history['loss']\n",
    "val_loss = VGG_model.history['val_loss']"
   ]
  },
  {
   "cell_type": "code",
   "execution_count": 11,
   "id": "b4b2cc7e",
   "metadata": {},
   "outputs": [
    {
     "data": {
      "image/png": "[encoded data removed]",
      "text/plain": [
       "<Figure size 800x800 with 1 Axes>"
      ]
     },
     "metadata": {},
     "output_type": "display_data"
    },
    {
     "data": {
      "image/png": "[encoded data removed]",
      "text/plain": [
       "<Figure size 640x480 with 1 Axes>"
      ]
     },
     "metadata": {},
     "output_type": "display_data"
    }
   ],
   "source": [
    "plt.figure(figsize=(8, 8))\n",
    "plt.subplot(1, 2, 1)\n",
    "plt.plot(range(5), acc, label='Training Accuracy')\n",
    "plt.plot(range(5), val_acc, label='Validation Accuracy')\n",
    "plt.legend(loc='lower right')\n",
    "plt.title('Training and Validation Accuracy')\n",
    "plt.show()\n",
    "\n",
    "\n",
    "plt.subplot(1, 2, 2)\n",
    "plt.plot(range(5), loss, label='Training Loss')\n",
    "plt.plot(range(5), val_loss, label='Validation Loss')\n",
    "plt.legend(loc='upper right')\n",
    "plt.title('Training and Validation Loss')\n",
    "plt.show()"
   ]
  },
  {
   "cell_type": "code",
   "execution_count": 10,
   "id": "589eee5d",
   "metadata": {},
   "outputs": [
    {
     "name": "stdout",
     "output_type": "stream",
     "text": [
      "203/203 [==============================] - 70s 344ms/step\n"
     ]
    }
   ],
   "source": [
    "predictions = model.predict(test_set)"
   ]
  },
  {
   "cell_type": "code",
   "execution_count": 12,
   "id": "64e1e193",
   "metadata": {},
   "outputs": [],
   "source": [
    "y_pred = np.argmax(predictions, axis=-1)"
   ]
  },
  {
   "cell_type": "code",
   "execution_count": 13,
   "id": "0f378d7f",
   "metadata": {},
   "outputs": [
    {
     "data": {
      "text/plain": [
       "{'Grape Black rot': 0,\n",
       " 'Grape Esca Black Measles': 1,\n",
       " 'Grape Leaf blight Isariopsis Leaf Spot': 2,\n",
       " 'Grape healthy': 3}"
      ]
     },
     "execution_count": 13,
     "metadata": {},
     "output_type": "execute_result"
    }
   ],
   "source": [
    "test_set.class_indices"
   ]
  },
  {
   "cell_type": "code",
   "execution_count": 14,
   "id": "9369f6a0",
   "metadata": {},
   "outputs": [
    {
     "name": "stdout",
     "output_type": "stream",
     "text": [
      "203/203 - 65s - loss: 0.0265 - accuracy: 0.9926 - 65s/epoch - 322ms/step\n"
     ]
    }
   ],
   "source": [
    "scores = model.evaluate(test_set, batch_size=16, verbose=2)"
   ]
  },
  {
   "cell_type": "code",
   "execution_count": null,
   "id": "f0db855d",
   "metadata": {},
   "outputs": [],
   "source": []
  },
  {
   "cell_type": "code",
   "execution_count": null,
   "id": "6683b596",
   "metadata": {},
   "outputs": [],
   "source": []
  },
  {
   "cell_type": "code",
   "execution_count": null,
   "id": "82d80e8f",
   "metadata": {},
   "outputs": [],
   "source": []
  }
 ],
 "metadata": {
  "kernelspec": {
   "display_name": "Python 3 (ipykernel)",
   "language": "python",
   "name": "python3"
  },
  "language_info": {
   "codemirror_mode": {
    "name": "ipython",
    "version": 3
   },
   "file_extension": ".py",
   "mimetype": "text/x-python",
   "name": "python",
   "nbconvert_exporter": "python",
   "pygments_lexer": "ipython3",
   "version": "3.11.5"
  }
 },
 "nbformat": 4,
 "nbformat_minor": 5
}
