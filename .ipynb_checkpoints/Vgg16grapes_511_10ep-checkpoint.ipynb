{
 "cells": [
  {
   "cell_type": "code",
   "execution_count": 2,
   "id": "432064ea",
   "metadata": {},
   "outputs": [],
   "source": [
    "import os\n",
    "import PIL\n",
    "import numpy as np\n",
    "from glob import glob\n",
    "import tensorflow as tf\n",
    "from tensorflow import keras\n",
    "import matplotlib.pyplot as plt\n",
    "from tensorflow.keras import layers, regularizers\n",
    "from tensorflow.keras.optimizers import Adam\n",
    "from tensorflow.keras.preprocessing import image\n",
    "from tensorflow.keras.layers import Dense, Flatten\n",
    "from tensorflow.keras.preprocessing.image import ImageDataGenerator\n",
    "from sklearn.metrics import confusion_matrix, classification_report\n",
    "from tensorflow.keras.models import Sequential, load_model, model_from_json, Model"
   ]
  },
  {
   "cell_type": "code",
   "execution_count": 4,
   "id": "ebe9c031",
   "metadata": {},
   "outputs": [],
   "source": [
    "from keras.models import Model\n",
    "from keras.layers import Flatten, Dense, BatchNormalization, Dropout\n",
    "from keras.applications import VGG16\n",
    "from tensorflow.keras.regularizers import l2\n",
    "#from keras.preprocessing import image\n",
    "num_classes = 5\n",
    "\n",
    "IMAGE_SIZE = [511, 511]  # we will keep the image size as (64,64). You can increase the size for better results. \n",
    "\n",
    "# loading the weights of VGG16 without the top layer. These weights are trained on Imagenet dataset.\n",
    "vgg = VGG16(input_shape = IMAGE_SIZE + [3], weights = 'imagenet', include_top = False)  # input_shape = (64,64,3) as required by VGG\n",
    "\n",
    "# this will exclude the initial layers from training phase as there are already been trained.\n",
    "for layer in vgg.layers:\n",
    "    layer.trainable = False\n",
    "\n",
    "x = Flatten()(vgg.output)\n",
    "x = BatchNormalization()(x)\n",
    "x = Dense(128, activation='relu', kernel_regularizer=l2(0.01))(x)\n",
    "x = Dropout(0.5)(x)                  # we can add a new fully connected layer but it will increase the execution time.\n",
    "x = Dense(num_classes, activation = 'softmax')(x)  # adding the output layer with softmax function as this is a multi label classification problem.\n",
    "\n",
    "model = Model(inputs = vgg.input, outputs = x)\n",
    "\n",
    "model.compile(loss='categorical_crossentropy', optimizer='adam', metrics=['accuracy'])"
   ]
  },
  {
   "cell_type": "code",
   "execution_count": 5,
   "id": "d65d2fde",
   "metadata": {},
   "outputs": [
    {
     "name": "stdout",
     "output_type": "stream",
     "text": [
      "Model: \"model\"\n",
      "_________________________________________________________________\n",
      " Layer (type)                Output Shape              Param #   \n",
      "=================================================================\n",
      " input_2 (InputLayer)        [(None, 511, 511, 3)]     0         \n",
      "                                                                 \n",
      " block1_conv1 (Conv2D)       (None, 511, 511, 64)      1792      \n",
      "                                                                 \n",
      " block1_conv2 (Conv2D)       (None, 511, 511, 64)      36928     \n",
      "                                                                 \n",
      " block1_pool (MaxPooling2D)  (None, 255, 255, 64)      0         \n",
      "                                                                 \n",
      " block2_conv1 (Conv2D)       (None, 255, 255, 128)     73856     \n",
      "                                                                 \n",
      " block2_conv2 (Conv2D)       (None, 255, 255, 128)     147584    \n",
      "                                                                 \n",
      " block2_pool (MaxPooling2D)  (None, 127, 127, 128)     0         \n",
      "                                                                 \n",
      " block3_conv1 (Conv2D)       (None, 127, 127, 256)     295168    \n",
      "                                                                 \n",
      " block3_conv2 (Conv2D)       (None, 127, 127, 256)     590080    \n",
      "                                                                 \n",
      " block3_conv3 (Conv2D)       (None, 127, 127, 256)     590080    \n",
      "                                                                 \n",
      " block3_pool (MaxPooling2D)  (None, 63, 63, 256)       0         \n",
      "                                                                 \n",
      " block4_conv1 (Conv2D)       (None, 63, 63, 512)       1180160   \n",
      "                                                                 \n",
      " block4_conv2 (Conv2D)       (None, 63, 63, 512)       2359808   \n",
      "                                                                 \n",
      " block4_conv3 (Conv2D)       (None, 63, 63, 512)       2359808   \n",
      "                                                                 \n",
      " block4_pool (MaxPooling2D)  (None, 31, 31, 512)       0         \n",
      "                                                                 \n",
      " block5_conv1 (Conv2D)       (None, 31, 31, 512)       2359808   \n",
      "                                                                 \n",
      " block5_conv2 (Conv2D)       (None, 31, 31, 512)       2359808   \n",
      "                                                                 \n",
      " block5_conv3 (Conv2D)       (None, 31, 31, 512)       2359808   \n",
      "                                                                 \n",
      " block5_pool (MaxPooling2D)  (None, 15, 15, 512)       0         \n",
      "                                                                 \n",
      " flatten_1 (Flatten)         (None, 115200)            0         \n",
      "                                                                 \n",
      " batch_normalization_1 (Bat  (None, 115200)            460800    \n",
      " chNormalization)                                                \n",
      "                                                                 \n",
      " dense_1 (Dense)             (None, 128)               14745728  \n",
      "                                                                 \n",
      " dropout (Dropout)           (None, 128)               0         \n",
      "                                                                 \n",
      " dense_2 (Dense)             (None, 5)                 645       \n",
      "                                                                 \n",
      "=================================================================\n",
      "Total params: 29921861 (114.14 MB)\n",
      "Trainable params: 14976773 (57.13 MB)\n",
      "Non-trainable params: 14945088 (57.01 MB)\n",
      "_________________________________________________________________\n"
     ]
    }
   ],
   "source": [
    "model.summary()"
   ]
  },
  {
   "cell_type": "code",
   "execution_count": 6,
   "id": "747fe871",
   "metadata": {},
   "outputs": [],
   "source": [
    "train_dir ='/Users/aayushrangra/Desktop/GrapeVine_Disease_Detection/grapeLeavesDataset511/train'\n",
    "valid_dir ='/Users/aayushrangra/Desktop/GrapeVine_Disease_Detection/grapeLeavesDataset511/valid'\n",
    "test_dir = '/Users/aayushrangra/Desktop/GrapeVine_Disease_Detection/grapeLeavesDataset511/test'\n",
    "\n",
    "num_classes = 5"
   ]
  },
  {
   "cell_type": "code",
   "execution_count": 7,
   "id": "368cad6f",
   "metadata": {},
   "outputs": [
    {
     "name": "stdout",
     "output_type": "stream",
     "text": [
      "Found 4400 images belonging to 5 classes.\n",
      "Found 450 images belonging to 5 classes.\n",
      "Found 450 images belonging to 5 classes.\n"
     ]
    }
   ],
   "source": [
    "IMAGE_SIZE = [511, 511]\n",
    "\n",
    "train_gen = ImageDataGenerator(\n",
    "    rescale=1./255\n",
    "    )\n",
    "val_gen = ImageDataGenerator(\n",
    "    rescale=1./255\n",
    "    )  \n",
    "test_gen = ImageDataGenerator(\n",
    "    rescale=1./255\n",
    "    )\n",
    "\n",
    "\n",
    "train_set = train_gen.flow_from_directory(\n",
    "    train_dir,\n",
    "    class_mode = 'categorical',\n",
    "    target_size = IMAGE_SIZE,\n",
    "    batch_size = 16\n",
    "    )\n",
    "val_set = val_gen.flow_from_directory(\n",
    "    valid_dir,\n",
    "    class_mode = 'categorical',\n",
    "    target_size = IMAGE_SIZE,\n",
    "    batch_size = 16\n",
    "    )\n",
    "test_set = test_gen.flow_from_directory(\n",
    "    test_dir,\n",
    "    class_mode = 'categorical',\n",
    "    target_size = IMAGE_SIZE,\n",
    "    batch_size = 16\n",
    ")"
   ]
  },
  {
   "cell_type": "code",
   "execution_count": 8,
   "id": "73bca291",
   "metadata": {},
   "outputs": [],
   "source": [
    "model.compile(\n",
    "    loss=tf.keras.losses.CategoricalCrossentropy(from_logits=False),\n",
    "    optimizer=tf.keras.optimizers.legacy.Adam(learning_rate=1e-5),\n",
    "    metrics=['accuracy']\n",
    "    )"
   ]
  },
  {
   "cell_type": "code",
   "execution_count": 8,
   "id": "689a8c46",
   "metadata": {},
   "outputs": [
    {
     "name": "stdout",
     "output_type": "stream",
     "text": [
      "Epoch 1/10\n"
     ]
    },
    {
     "name": "stderr",
     "output_type": "stream",
     "text": [
      "2023-11-27 20:27:43.798978: I tensorflow/core/grappler/optimizers/custom_graph_optimizer_registry.cc:117] Plugin optimizer for device_type GPU is enabled.\n"
     ]
    },
    {
     "name": "stdout",
     "output_type": "stream",
     "text": [
      "275/275 [==============================] - 507s 2s/step - loss: 0.7448 - accuracy: 0.7370 - val_loss: 0.4996 - val_accuracy: 0.8756\n",
      "Epoch 2/10\n",
      "275/275 [==============================] - 733s 3s/step - loss: 0.1672 - accuracy: 0.9602 - val_loss: 0.3540 - val_accuracy: 0.8511\n",
      "Epoch 3/10\n",
      "275/275 [==============================] - 741s 3s/step - loss: 0.0772 - accuracy: 0.9884 - val_loss: 0.3051 - val_accuracy: 0.8800\n",
      "Epoch 4/10\n",
      "275/275 [==============================] - 736s 3s/step - loss: 0.0499 - accuracy: 0.9950 - val_loss: 0.3396 - val_accuracy: 0.8756\n",
      "Epoch 5/10\n",
      "275/275 [==============================] - 596s 2s/step - loss: 0.0381 - accuracy: 0.9955 - val_loss: 0.3228 - val_accuracy: 0.8844\n",
      "Epoch 6/10\n",
      "275/275 [==============================] - 467s 2s/step - loss: 0.0223 - accuracy: 0.9998 - val_loss: 0.2969 - val_accuracy: 0.8756\n",
      "Epoch 7/10\n",
      "275/275 [==============================] - 532s 2s/step - loss: 0.0198 - accuracy: 0.9980 - val_loss: 0.2986 - val_accuracy: 0.8800\n",
      "Epoch 8/10\n",
      "275/275 [==============================] - 748s 3s/step - loss: 0.0177 - accuracy: 0.9984 - val_loss: 0.2417 - val_accuracy: 0.9089\n",
      "Epoch 9/10\n",
      "275/275 [==============================] - 628s 2s/step - loss: 0.0128 - accuracy: 0.9989 - val_loss: 0.2746 - val_accuracy: 0.9022\n",
      "Epoch 10/10\n",
      "275/275 [==============================] - 579s 2s/step - loss: 0.0091 - accuracy: 0.9995 - val_loss: 0.2544 - val_accuracy: 0.9111\n"
     ]
    }
   ],
   "source": [
    "VGG_model = model.fit(\n",
    "     train_set,\n",
    "     validation_data=val_set, \n",
    "     epochs=10,\n",
    "     steps_per_epoch = len(train_set),\n",
    "     validation_steps = len(val_set),)"
   ]
  },
  {
   "cell_type": "code",
   "execution_count": 9,
   "id": "f24d23d9",
   "metadata": {},
   "outputs": [
    {
     "data": {
      "text/plain": [
       "dict_keys(['loss', 'accuracy', 'val_loss', 'val_accuracy'])"
      ]
     },
     "execution_count": 9,
     "metadata": {},
     "output_type": "execute_result"
    }
   ],
   "source": [
    "VGG_model.history.keys()"
   ]
  },
  {
   "cell_type": "code",
   "execution_count": 10,
   "id": "30cab414",
   "metadata": {},
   "outputs": [],
   "source": [
    "acc = VGG_model.history['accuracy']\n",
    "val_acc = VGG_model.history['val_accuracy']\n",
    "\n",
    "loss = VGG_model.history['loss']\n",
    "val_loss = VGG_model.history['val_loss']"
   ]
  },
  {
   "cell_type": "code",
   "execution_count": 11,
   "id": "b4b2cc7e",
   "metadata": {},
   "outputs": [
    {
     "data": {
      "image/png": "[encoded data removed]",
      "text/plain": [
       "<Figure size 800x800 with 1 Axes>"
      ]
     },
     "metadata": {},
     "output_type": "display_data"
    },
    {
     "data": {
      "image/png": "[encoded data removed]",
      "text/plain": [
       "<Figure size 640x480 with 1 Axes>"
      ]
     },
     "metadata": {},
     "output_type": "display_data"
    }
   ],
   "source": [
    "plt.figure(figsize=(8, 8))\n",
    "plt.subplot(1, 2, 1)\n",
    "plt.plot(range(10), acc, label='Training Accuracy')\n",
    "plt.plot(range(10), val_acc, label='Validation Accuracy')\n",
    "plt.legend(loc='lower right')\n",
    "plt.title('Training and Validation Accuracy')\n",
    "plt.show()\n",
    "\n",
    "\n",
    "plt.subplot(1, 2, 2)\n",
    "plt.plot(range(10), loss, label='Training Loss')\n",
    "plt.plot(range(10), val_loss, label='Validation Loss')\n",
    "plt.legend(loc='upper right')\n",
    "plt.title('Training and Validation Loss')\n",
    "plt.show()"
   ]
  },
  {
   "cell_type": "code",
   "execution_count": 12,
   "id": "589eee5d",
   "metadata": {},
   "outputs": [
    {
     "name": "stdout",
     "output_type": "stream",
     "text": [
      "29/29 [==============================] - 38s 1s/step\n"
     ]
    }
   ],
   "source": [
    "predictions = model.predict(test_set)"
   ]
  },
  {
   "cell_type": "code",
   "execution_count": 13,
   "id": "64e1e193",
   "metadata": {},
   "outputs": [],
   "source": [
    "y_pred = np.argmax(predictions, axis=-1)"
   ]
  },
  {
   "cell_type": "code",
   "execution_count": 14,
   "id": "0f378d7f",
   "metadata": {},
   "outputs": [
    {
     "data": {
      "text/plain": [
       "{'Ak': 0, 'Ala_Idris': 1, 'Buzgulu': 2, 'Dimnit': 3, 'Nazli': 4}"
      ]
     },
     "execution_count": 14,
     "metadata": {},
     "output_type": "execute_result"
    }
   ],
   "source": [
    "test_set.class_indices"
   ]
  },
  {
   "cell_type": "code",
   "execution_count": 15,
   "id": "9369f6a0",
   "metadata": {},
   "outputs": [
    {
     "name": "stdout",
     "output_type": "stream",
     "text": [
      "29/29 - 40s - loss: 0.5421 - accuracy: 0.8378 - 40s/epoch - 1s/step\n"
     ]
    }
   ],
   "source": [
    "scores = model.evaluate(test_set, batch_size=16, verbose=2)"
   ]
  },
  {
   "cell_type": "code",
   "execution_count": null,
   "id": "f0db855d",
   "metadata": {},
   "outputs": [],
   "source": []
  },
  {
   "cell_type": "code",
   "execution_count": null,
   "id": "6683b596",
   "metadata": {},
   "outputs": [],
   "source": []
  },
  {
   "cell_type": "code",
   "execution_count": null,
   "id": "82d80e8f",
   "metadata": {},
   "outputs": [],
   "source": []
  }
 ],
 "metadata": {
  "kernelspec": {
   "display_name": "Python 3 (ipykernel)",
   "language": "python",
   "name": "python3"
  },
  "language_info": {
   "codemirror_mode": {
    "name": "ipython",
    "version": 3
   },
   "file_extension": ".py",
   "mimetype": "text/x-python",
   "name": "python",
   "nbconvert_exporter": "python",
   "pygments_lexer": "ipython3",
   "version": "3.11.5"
  }
 },
 "nbformat": 4,
 "nbformat_minor": 5
}
